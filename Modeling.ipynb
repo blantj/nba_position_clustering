{
 "cells": [
  {
   "cell_type": "markdown",
   "metadata": {},
   "source": [
    "# Import libraries"
   ]
  },
  {
   "cell_type": "code",
   "execution_count": 61,
   "metadata": {},
   "outputs": [],
   "source": [
    "import pandas as pd\n",
    "import numpy as np\n",
    "from sklearn.decomposition import PCA\n",
    "import matplotlib.pyplot as plt\n",
    "from sklearn.cluster import KMeans\n",
    "from scipy.cluster.hierarchy import dendrogram, linkage\n",
    "from scipy.cluster.hierarchy import fcluster\n",
    "from scipy.cluster.hierarchy import cophenet\n",
    "from scipy.spatial.distance import cdist\n",
    "from sklearn.cluster import AgglomerativeClustering\n",
    "from sklearn.metrics import accuracy_score\n",
    "from sklearn.preprocessing import StandardScaler\n",
    "from sklearn.metrics import silhouette_score\n",
    "import seaborn as sns"
   ]
  },
  {
   "cell_type": "markdown",
   "metadata": {},
   "source": [
    "# Obtain Data"
   ]
  },
  {
   "cell_type": "code",
   "execution_count": 56,
   "metadata": {},
   "outputs": [
    {
     "data": {
      "text/html": [
       "<div>\n",
       "<style scoped>\n",
       "    .dataframe tbody tr th:only-of-type {\n",
       "        vertical-align: middle;\n",
       "    }\n",
       "\n",
       "    .dataframe tbody tr th {\n",
       "        vertical-align: top;\n",
       "    }\n",
       "\n",
       "    .dataframe thead th {\n",
       "        text-align: right;\n",
       "    }\n",
       "</style>\n",
       "<table border=\"1\" class=\"dataframe\">\n",
       "  <thead>\n",
       "    <tr style=\"text-align: right;\">\n",
       "      <th></th>\n",
       "      <th>Height (No Shoes)</th>\n",
       "      <th>Height (With Shoes)</th>\n",
       "      <th>Wingspan</th>\n",
       "      <th>Standing reach</th>\n",
       "      <th>Vertical (Max)</th>\n",
       "      <th>Vertical (Max Reach)</th>\n",
       "      <th>Vertical (No Step)</th>\n",
       "      <th>Vertical (No Step Reach)</th>\n",
       "      <th>Weight</th>\n",
       "      <th>Body Fat</th>\n",
       "      <th>Hand (Length)</th>\n",
       "      <th>Hand (Width)</th>\n",
       "      <th>Bench</th>\n",
       "      <th>Agility</th>\n",
       "      <th>Sprint</th>\n",
       "    </tr>\n",
       "  </thead>\n",
       "  <tbody>\n",
       "    <tr>\n",
       "      <th>0</th>\n",
       "      <td>80.50</td>\n",
       "      <td>82.00</td>\n",
       "      <td>83.25</td>\n",
       "      <td>105.0</td>\n",
       "      <td>35.5</td>\n",
       "      <td>140.5</td>\n",
       "      <td>32.0</td>\n",
       "      <td>137.0</td>\n",
       "      <td>248.0</td>\n",
       "      <td>8.2</td>\n",
       "      <td>NaN</td>\n",
       "      <td>NaN</td>\n",
       "      <td>22.0</td>\n",
       "      <td>10.95</td>\n",
       "      <td>3.28</td>\n",
       "    </tr>\n",
       "    <tr>\n",
       "      <th>1</th>\n",
       "      <td>77.00</td>\n",
       "      <td>78.25</td>\n",
       "      <td>81.00</td>\n",
       "      <td>103.5</td>\n",
       "      <td>37.0</td>\n",
       "      <td>140.5</td>\n",
       "      <td>30.5</td>\n",
       "      <td>134.0</td>\n",
       "      <td>213.0</td>\n",
       "      <td>5.1</td>\n",
       "      <td>NaN</td>\n",
       "      <td>NaN</td>\n",
       "      <td>9.0</td>\n",
       "      <td>11.15</td>\n",
       "      <td>3.18</td>\n",
       "    </tr>\n",
       "    <tr>\n",
       "      <th>2</th>\n",
       "      <td>76.00</td>\n",
       "      <td>77.00</td>\n",
       "      <td>82.25</td>\n",
       "      <td>102.5</td>\n",
       "      <td>35.0</td>\n",
       "      <td>137.5</td>\n",
       "      <td>31.5</td>\n",
       "      <td>134.0</td>\n",
       "      <td>215.0</td>\n",
       "      <td>4.4</td>\n",
       "      <td>NaN</td>\n",
       "      <td>NaN</td>\n",
       "      <td>8.0</td>\n",
       "      <td>11.17</td>\n",
       "      <td>3.14</td>\n",
       "    </tr>\n",
       "    <tr>\n",
       "      <th>3</th>\n",
       "      <td>80.25</td>\n",
       "      <td>81.50</td>\n",
       "      <td>83.50</td>\n",
       "      <td>106.0</td>\n",
       "      <td>34.0</td>\n",
       "      <td>140.0</td>\n",
       "      <td>27.5</td>\n",
       "      <td>133.5</td>\n",
       "      <td>234.0</td>\n",
       "      <td>8.5</td>\n",
       "      <td>NaN</td>\n",
       "      <td>NaN</td>\n",
       "      <td>18.0</td>\n",
       "      <td>11.12</td>\n",
       "      <td>3.27</td>\n",
       "    </tr>\n",
       "    <tr>\n",
       "      <th>4</th>\n",
       "      <td>80.50</td>\n",
       "      <td>82.25</td>\n",
       "      <td>86.50</td>\n",
       "      <td>109.5</td>\n",
       "      <td>33.0</td>\n",
       "      <td>142.5</td>\n",
       "      <td>28.5</td>\n",
       "      <td>138.0</td>\n",
       "      <td>228.0</td>\n",
       "      <td>5.2</td>\n",
       "      <td>NaN</td>\n",
       "      <td>NaN</td>\n",
       "      <td>5.0</td>\n",
       "      <td>11.17</td>\n",
       "      <td>3.35</td>\n",
       "    </tr>\n",
       "  </tbody>\n",
       "</table>\n",
       "</div>"
      ],
      "text/plain": [
       "   Height (No Shoes)  Height (With Shoes)  Wingspan  Standing reach  \\\n",
       "0              80.50                82.00     83.25           105.0   \n",
       "1              77.00                78.25     81.00           103.5   \n",
       "2              76.00                77.00     82.25           102.5   \n",
       "3              80.25                81.50     83.50           106.0   \n",
       "4              80.50                82.25     86.50           109.5   \n",
       "\n",
       "   Vertical (Max)  Vertical (Max Reach)  Vertical (No Step)  \\\n",
       "0            35.5                 140.5                32.0   \n",
       "1            37.0                 140.5                30.5   \n",
       "2            35.0                 137.5                31.5   \n",
       "3            34.0                 140.0                27.5   \n",
       "4            33.0                 142.5                28.5   \n",
       "\n",
       "   Vertical (No Step Reach)  Weight  Body Fat  Hand (Length)  Hand (Width)  \\\n",
       "0                     137.0   248.0       8.2            NaN           NaN   \n",
       "1                     134.0   213.0       5.1            NaN           NaN   \n",
       "2                     134.0   215.0       4.4            NaN           NaN   \n",
       "3                     133.5   234.0       8.5            NaN           NaN   \n",
       "4                     138.0   228.0       5.2            NaN           NaN   \n",
       "\n",
       "   Bench  Agility  Sprint  \n",
       "0   22.0    10.95    3.28  \n",
       "1    9.0    11.15    3.18  \n",
       "2    8.0    11.17    3.14  \n",
       "3   18.0    11.12    3.27  \n",
       "4    5.0    11.17    3.35  "
      ]
     },
     "execution_count": 56,
     "metadata": {},
     "output_type": "execute_result"
    }
   ],
   "source": [
    "df = pd.read_csv('nba_draft_combine.csv')\n",
    "df.drop(columns=['Unnamed: 0','Player','Year','Draft pick'], inplace=True)\n",
    "df.head()"
   ]
  },
  {
   "cell_type": "markdown",
   "metadata": {},
   "source": [
    "# Scrub Data"
   ]
  },
  {
   "cell_type": "code",
   "execution_count": 57,
   "metadata": {},
   "outputs": [
    {
     "name": "stdout",
     "output_type": "stream",
     "text": [
      "<class 'pandas.core.frame.DataFrame'>\n",
      "RangeIndex: 517 entries, 0 to 516\n",
      "Data columns (total 15 columns):\n",
      " #   Column                    Non-Null Count  Dtype  \n",
      "---  ------                    --------------  -----  \n",
      " 0   Height (No Shoes)         517 non-null    float64\n",
      " 1   Height (With Shoes)       516 non-null    float64\n",
      " 2   Wingspan                  517 non-null    float64\n",
      " 3   Standing reach            517 non-null    float64\n",
      " 4   Vertical (Max)            450 non-null    float64\n",
      " 5   Vertical (Max Reach)      450 non-null    float64\n",
      " 6   Vertical (No Step)        450 non-null    float64\n",
      " 7   Vertical (No Step Reach)  450 non-null    float64\n",
      " 8   Weight                    516 non-null    float64\n",
      " 9   Body Fat                  514 non-null    float64\n",
      " 10  Hand (Length)             470 non-null    float64\n",
      " 11  Hand (Width)              468 non-null    float64\n",
      " 12  Bench                     284 non-null    float64\n",
      " 13  Agility                   444 non-null    float64\n",
      " 14  Sprint                    446 non-null    float64\n",
      "dtypes: float64(15)\n",
      "memory usage: 60.7 KB\n"
     ]
    }
   ],
   "source": [
    "df.info()"
   ]
  },
  {
   "cell_type": "code",
   "execution_count": 58,
   "metadata": {},
   "outputs": [
    {
     "data": {
      "text/plain": [
       "<matplotlib.axes._subplots.AxesSubplot at 0x1a19516650>"
      ]
     },
     "execution_count": 58,
     "metadata": {},
     "output_type": "execute_result"
    },
    {
     "data": {
      "image/png": "[encoded data removed]",
      "text/plain": [
       "<Figure size 432x288 with 2 Axes>"
      ]
     },
     "metadata": {
      "needs_background": "light"
     },
     "output_type": "display_data"
    }
   ],
   "source": [
    "corr_matrix = df.corr()\n",
    "sns.heatmap(corr_matrix)"
   ]
  },
  {
   "cell_type": "code",
   "execution_count": 59,
   "metadata": {},
   "outputs": [],
   "source": [
    "df.drop(columns=['Bench','Height (With Shoes)', 'Vertical (Max Reach)', 'Vertical (No Step)',\n",
    "                 'Vertical (No Step Reach)','Standing reach'], inplace=True)\n",
    "df.dropna(inplace=True)"
   ]
  },
  {
   "cell_type": "code",
   "execution_count": 60,
   "metadata": {},
   "outputs": [
    {
     "name": "stdout",
     "output_type": "stream",
     "text": [
      "AxesSubplot(0.125,0.125;0.62x0.755)\n"
     ]
    },
    {
     "data": {
      "text/html": [
       "<div>\n",
       "<style scoped>\n",
       "    .dataframe tbody tr th:only-of-type {\n",
       "        vertical-align: middle;\n",
       "    }\n",
       "\n",
       "    .dataframe tbody tr th {\n",
       "        vertical-align: top;\n",
       "    }\n",
       "\n",
       "    .dataframe thead th {\n",
       "        text-align: right;\n",
       "    }\n",
       "</style>\n",
       "<table border=\"1\" class=\"dataframe\">\n",
       "  <thead>\n",
       "    <tr style=\"text-align: right;\">\n",
       "      <th></th>\n",
       "      <th>Height (No Shoes)</th>\n",
       "      <th>Wingspan</th>\n",
       "      <th>Vertical (Max)</th>\n",
       "      <th>Weight</th>\n",
       "      <th>Body Fat</th>\n",
       "      <th>Hand (Length)</th>\n",
       "      <th>Hand (Width)</th>\n",
       "      <th>Agility</th>\n",
       "      <th>Sprint</th>\n",
       "    </tr>\n",
       "  </thead>\n",
       "  <tbody>\n",
       "    <tr>\n",
       "      <th>Height (No Shoes)</th>\n",
       "      <td>1.000000</td>\n",
       "      <td>0.849543</td>\n",
       "      <td>-0.429775</td>\n",
       "      <td>0.747132</td>\n",
       "      <td>0.247840</td>\n",
       "      <td>0.600355</td>\n",
       "      <td>0.377972</td>\n",
       "      <td>0.417923</td>\n",
       "      <td>0.416992</td>\n",
       "    </tr>\n",
       "    <tr>\n",
       "      <th>Wingspan</th>\n",
       "      <td>0.849543</td>\n",
       "      <td>1.000000</td>\n",
       "      <td>-0.370260</td>\n",
       "      <td>0.734279</td>\n",
       "      <td>0.245683</td>\n",
       "      <td>0.725711</td>\n",
       "      <td>0.418841</td>\n",
       "      <td>0.435748</td>\n",
       "      <td>0.378266</td>\n",
       "    </tr>\n",
       "    <tr>\n",
       "      <th>Vertical (Max)</th>\n",
       "      <td>-0.429775</td>\n",
       "      <td>-0.370260</td>\n",
       "      <td>1.000000</td>\n",
       "      <td>-0.430656</td>\n",
       "      <td>-0.440702</td>\n",
       "      <td>-0.235187</td>\n",
       "      <td>-0.109179</td>\n",
       "      <td>-0.427659</td>\n",
       "      <td>-0.618880</td>\n",
       "    </tr>\n",
       "    <tr>\n",
       "      <th>Weight</th>\n",
       "      <td>0.747132</td>\n",
       "      <td>0.734279</td>\n",
       "      <td>-0.430656</td>\n",
       "      <td>1.000000</td>\n",
       "      <td>0.532236</td>\n",
       "      <td>0.592382</td>\n",
       "      <td>0.400539</td>\n",
       "      <td>0.457255</td>\n",
       "      <td>0.441118</td>\n",
       "    </tr>\n",
       "    <tr>\n",
       "      <th>Body Fat</th>\n",
       "      <td>0.247840</td>\n",
       "      <td>0.245683</td>\n",
       "      <td>-0.440702</td>\n",
       "      <td>0.532236</td>\n",
       "      <td>1.000000</td>\n",
       "      <td>0.171763</td>\n",
       "      <td>0.029072</td>\n",
       "      <td>0.249271</td>\n",
       "      <td>0.457043</td>\n",
       "    </tr>\n",
       "    <tr>\n",
       "      <th>Hand (Length)</th>\n",
       "      <td>0.600355</td>\n",
       "      <td>0.725711</td>\n",
       "      <td>-0.235187</td>\n",
       "      <td>0.592382</td>\n",
       "      <td>0.171763</td>\n",
       "      <td>1.000000</td>\n",
       "      <td>0.529326</td>\n",
       "      <td>0.346003</td>\n",
       "      <td>0.243111</td>\n",
       "    </tr>\n",
       "    <tr>\n",
       "      <th>Hand (Width)</th>\n",
       "      <td>0.377972</td>\n",
       "      <td>0.418841</td>\n",
       "      <td>-0.109179</td>\n",
       "      <td>0.400539</td>\n",
       "      <td>0.029072</td>\n",
       "      <td>0.529326</td>\n",
       "      <td>1.000000</td>\n",
       "      <td>0.201485</td>\n",
       "      <td>0.124625</td>\n",
       "    </tr>\n",
       "    <tr>\n",
       "      <th>Agility</th>\n",
       "      <td>0.417923</td>\n",
       "      <td>0.435748</td>\n",
       "      <td>-0.427659</td>\n",
       "      <td>0.457255</td>\n",
       "      <td>0.249271</td>\n",
       "      <td>0.346003</td>\n",
       "      <td>0.201485</td>\n",
       "      <td>1.000000</td>\n",
       "      <td>0.453195</td>\n",
       "    </tr>\n",
       "    <tr>\n",
       "      <th>Sprint</th>\n",
       "      <td>0.416992</td>\n",
       "      <td>0.378266</td>\n",
       "      <td>-0.618880</td>\n",
       "      <td>0.441118</td>\n",
       "      <td>0.457043</td>\n",
       "      <td>0.243111</td>\n",
       "      <td>0.124625</td>\n",
       "      <td>0.453195</td>\n",
       "      <td>1.000000</td>\n",
       "    </tr>\n",
       "  </tbody>\n",
       "</table>\n",
       "</div>"
      ],
      "text/plain": [
       "                   Height (No Shoes)  Wingspan  Vertical (Max)    Weight  \\\n",
       "Height (No Shoes)           1.000000  0.849543       -0.429775  0.747132   \n",
       "Wingspan                    0.849543  1.000000       -0.370260  0.734279   \n",
       "Vertical (Max)             -0.429775 -0.370260        1.000000 -0.430656   \n",
       "Weight                      0.747132  0.734279       -0.430656  1.000000   \n",
       "Body Fat                    0.247840  0.245683       -0.440702  0.532236   \n",
       "Hand (Length)               0.600355  0.725711       -0.235187  0.592382   \n",
       "Hand (Width)                0.377972  0.418841       -0.109179  0.400539   \n",
       "Agility                     0.417923  0.435748       -0.427659  0.457255   \n",
       "Sprint                      0.416992  0.378266       -0.618880  0.441118   \n",
       "\n",
       "                   Body Fat  Hand (Length)  Hand (Width)   Agility    Sprint  \n",
       "Height (No Shoes)  0.247840       0.600355      0.377972  0.417923  0.416992  \n",
       "Wingspan           0.245683       0.725711      0.418841  0.435748  0.378266  \n",
       "Vertical (Max)    -0.440702      -0.235187     -0.109179 -0.427659 -0.618880  \n",
       "Weight             0.532236       0.592382      0.400539  0.457255  0.441118  \n",
       "Body Fat           1.000000       0.171763      0.029072  0.249271  0.457043  \n",
       "Hand (Length)      0.171763       1.000000      0.529326  0.346003  0.243111  \n",
       "Hand (Width)       0.029072       0.529326      1.000000  0.201485  0.124625  \n",
       "Agility            0.249271       0.346003      0.201485  1.000000  0.453195  \n",
       "Sprint             0.457043       0.243111      0.124625  0.453195  1.000000  "
      ]
     },
     "execution_count": 60,
     "metadata": {},
     "output_type": "execute_result"
    },
    {
     "data": {
      "image/png": "[encoded data removed]",
      "text/plain": [
       "<Figure size 432x288 with 2 Axes>"
      ]
     },
     "metadata": {
      "needs_background": "light"
     },
     "output_type": "display_data"
    }
   ],
   "source": [
    "corr_matrix = df.corr()\n",
    "print(sns.heatmap(corr_matrix))\n",
    "corr_matrix"
   ]
  },
  {
   "cell_type": "code",
   "execution_count": 37,
   "metadata": {},
   "outputs": [
    {
     "name": "stdout",
     "output_type": "stream",
     "text": [
      "<class 'pandas.core.frame.DataFrame'>\n",
      "Int64Index: 394 entries, 15 to 516\n",
      "Data columns (total 10 columns):\n",
      " #   Column             Non-Null Count  Dtype  \n",
      "---  ------             --------------  -----  \n",
      " 0   Height (No Shoes)  394 non-null    float64\n",
      " 1   Wingspan           394 non-null    float64\n",
      " 2   Standing reach     394 non-null    float64\n",
      " 3   Vertical (Max)     394 non-null    float64\n",
      " 4   Weight             394 non-null    float64\n",
      " 5   Body Fat           394 non-null    float64\n",
      " 6   Hand (Length)      394 non-null    float64\n",
      " 7   Hand (Width)       394 non-null    float64\n",
      " 8   Agility            394 non-null    float64\n",
      " 9   Sprint             394 non-null    float64\n",
      "dtypes: float64(10)\n",
      "memory usage: 33.9 KB\n"
     ]
    }
   ],
   "source": [
    "df.info()"
   ]
  },
  {
   "cell_type": "markdown",
   "metadata": {},
   "source": [
    "# Model Data"
   ]
  },
  {
   "cell_type": "code",
   "execution_count": 65,
   "metadata": {},
   "outputs": [
    {
     "data": {
      "text/plain": [
       "array([[ 0.21597756,  0.5899984 ,  0.47534192, ..., -1.21679475,\n",
       "        -0.20747095, -1.66747803],\n",
       "       [-0.24316898, -0.84348802, -1.98713062, ..., -0.1967583 ,\n",
       "        -0.38311245,  1.351903  ],\n",
       "       [ 0.67512411,  0.39452298, -0.20867823, ...,  0.82327815,\n",
       "         1.02201956,  0.26802263],\n",
       "       ...,\n",
       "       [-0.93188881, -0.45253718,  1.43297013, ...,  0.82327815,\n",
       "         1.12740446, -0.04165748],\n",
       "       [ 0.29250199, -1.42991428, -0.61909032, ..., -0.1967583 ,\n",
       "         1.84753461,  1.73900313],\n",
       "       [ 0.21597756, -0.06158633,  0.47534192, ..., -0.53677045,\n",
       "        -0.2952917 , -0.35133758]])"
      ]
     },
     "execution_count": 65,
     "metadata": {},
     "output_type": "execute_result"
    }
   ],
   "source": [
    "ss = StandardScaler()\n",
    "ss.fit(df)\n",
    "x = ss.transform(df)\n",
    "x"
   ]
  },
  {
   "cell_type": "code",
   "execution_count": 66,
   "metadata": {},
   "outputs": [
    {
     "data": {
      "text/plain": [
       "[<matplotlib.lines.Line2D at 0x1a1a78d690>]"
      ]
     },
     "execution_count": 66,
     "metadata": {},
     "output_type": "execute_result"
    },
    {
     "data": {
      "image/png": "[encoded data removed]",
      "text/plain": [
       "<Figure size 432x288 with 1 Axes>"
      ]
     },
     "metadata": {
      "needs_background": "light"
     },
     "output_type": "display_data"
    }
   ],
   "source": [
    "elbow_values = []\n",
    "for k in range(1,11):\n",
    "    kmeans = KMeans(n_clusters = k)\n",
    "    kmeans.fit(x)\n",
    "    elbow_values.append([k, kmeans.inertia_])\n",
    "elbow_df = pd.DataFrame(elbow_values, columns = ['K','Inertia'])\n",
    "fig, ax = plt.subplots()\n",
    "ax.plot(elbow_df['K'], elbow_df['Inertia'])"
   ]
  },
  {
   "cell_type": "code",
   "execution_count": 80,
   "metadata": {},
   "outputs": [
    {
     "name": "stdout",
     "output_type": "stream",
     "text": [
      "2370.84182063365\n",
      "0.2767972171676582\n"
     ]
    }
   ],
   "source": [
    "kmeans_2 = KMeans(n_clusters = 2)\n",
    "kmeans_2.fit(x)\n",
    "print(kmeans_2.inertia_)\n",
    "labels_2 = kmeans_2.labels_\n",
    "print(silhouette_score(x, labels_2))"
   ]
  },
  {
   "cell_type": "code",
   "execution_count": 79,
   "metadata": {},
   "outputs": [
    {
     "name": "stdout",
     "output_type": "stream",
     "text": [
      "2051.5641413951507\n",
      "0.19400802565169836\n"
     ]
    }
   ],
   "source": [
    "kmeans_3 = KMeans(n_clusters = 3)\n",
    "kmeans_3.fit(x)\n",
    "print(kmeans_3.inertia_)\n",
    "labels_3 = kmeans_3.labels_\n",
    "print(silhouette_score(x, labels_3))"
   ]
  },
  {
   "cell_type": "code",
   "execution_count": 78,
   "metadata": {},
   "outputs": [
    {
     "name": "stdout",
     "output_type": "stream",
     "text": [
      "1855.657925326933\n",
      "0.16482264355607976\n"
     ]
    }
   ],
   "source": [
    "kmeans_4 = KMeans(n_clusters = 4)\n",
    "kmeans_4.fit(x)\n",
    "print(kmeans_4.inertia_)\n",
    "labels_4 = kmeans_4.labels_\n",
    "print(silhouette_score(x, labels_4))"
   ]
  },
  {
   "cell_type": "code",
   "execution_count": 81,
   "metadata": {},
   "outputs": [
    {
     "name": "stdout",
     "output_type": "stream",
     "text": [
      "1720.1801302996817\n",
      "0.15504341406244407\n"
     ]
    }
   ],
   "source": [
    "kmeans_5 = KMeans(n_clusters = 5)\n",
    "kmeans_5.fit(x)\n",
    "print(kmeans_5.inertia_)\n",
    "labels_5 = kmeans_5.labels_\n",
    "print(silhouette_score(x, labels_5))"
   ]
  },
  {
   "cell_type": "code",
   "execution_count": 82,
   "metadata": {},
   "outputs": [
    {
     "data": {
      "text/plain": [
       "Text(0, 0.5, 'Distance')"
      ]
     },
     "execution_count": 82,
     "metadata": {},
     "output_type": "execute_result"
    },
    {
     "data": {
      "image/png": "[encoded data removed]",
      "text/plain": [
       "<Figure size 432x288 with 1 Axes>"
      ]
     },
     "metadata": {
      "needs_background": "light"
     },
     "output_type": "display_data"
    }
   ],
   "source": [
    "link = linkage(x, 'ward')\n",
    "dendrogram(link, truncate_mode='lastp', p=16, leaf_rotation=90, leaf_font_size=10)\n",
    "plt.title('Hierarchical Agglomerative Clustering Dendrogram')\n",
    "plt.xlabel('Clustering')\n",
    "plt.ylabel('Distance')\n"
   ]
  },
  {
   "cell_type": "code",
   "execution_count": null,
   "metadata": {},
   "outputs": [],
   "source": []
  }
 ],
 "metadata": {
  "kernelspec": {
   "display_name": "Python 3",
   "language": "python",
   "name": "python3"
  },
  "language_info": {
   "codemirror_mode": {
    "name": "ipython",
    "version": 3
   },
   "file_extension": ".py",
   "mimetype": "text/x-python",
   "name": "python",
   "nbconvert_exporter": "python",
   "pygments_lexer": "ipython3",
   "version": "3.7.6"
  }
 },
 "nbformat": 4,
 "nbformat_minor": 4
}
